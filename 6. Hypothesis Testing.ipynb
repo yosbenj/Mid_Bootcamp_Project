{
 "cells": [
  {
   "cell_type": "markdown",
   "id": "3803babb",
   "metadata": {},
   "source": [
    "# Import Libraries"
   ]
  },
  {
   "cell_type": "code",
   "execution_count": 1,
   "id": "92440e94",
   "metadata": {},
   "outputs": [],
   "source": [
    "import pandas as pd\n",
    "import scipy.stats as stats\n",
    "from scipy.stats import pearsonr"
   ]
  },
  {
   "cell_type": "markdown",
   "id": "134d9517",
   "metadata": {},
   "source": [
    "# Load the DataFrame"
   ]
  },
  {
   "cell_type": "code",
   "execution_count": 2,
   "id": "df2088d4",
   "metadata": {},
   "outputs": [
    {
     "data": {
      "text/html": [
       "<div>\n",
       "<style scoped>\n",
       "    .dataframe tbody tr th:only-of-type {\n",
       "        vertical-align: middle;\n",
       "    }\n",
       "\n",
       "    .dataframe tbody tr th {\n",
       "        vertical-align: top;\n",
       "    }\n",
       "\n",
       "    .dataframe thead th {\n",
       "        text-align: right;\n",
       "    }\n",
       "</style>\n",
       "<table border=\"1\" class=\"dataframe\">\n",
       "  <thead>\n",
       "    <tr style=\"text-align: right;\">\n",
       "      <th></th>\n",
       "      <th>neighborhood_name</th>\n",
       "      <th>district_name</th>\n",
       "      <th>median_income</th>\n",
       "      <th>medical_center</th>\n",
       "      <th>type</th>\n",
       "      <th>admin</th>\n",
       "      <th>population</th>\n",
       "      <th>residential_area_ha</th>\n",
       "      <th>net_density_hab_ha</th>\n",
       "      <th>none</th>\n",
       "      <th>private</th>\n",
       "      <th>public</th>\n",
       "      <th>medical_center_count</th>\n",
       "      <th>med_centers_per_pop</th>\n",
       "      <th>med_centers_per_density</th>\n",
       "      <th>income_quartile</th>\n",
       "      <th>private_proportion</th>\n",
       "    </tr>\n",
       "  </thead>\n",
       "  <tbody>\n",
       "    <tr>\n",
       "      <th>0</th>\n",
       "      <td>Baró de Viver</td>\n",
       "      <td>Sant Andreu</td>\n",
       "      <td>29438</td>\n",
       "      <td>None</td>\n",
       "      <td>None</td>\n",
       "      <td>None</td>\n",
       "      <td>2645</td>\n",
       "      <td>3.9</td>\n",
       "      <td>673</td>\n",
       "      <td>1</td>\n",
       "      <td>0</td>\n",
       "      <td>0</td>\n",
       "      <td>0</td>\n",
       "      <td>0.000000</td>\n",
       "      <td>0.000000</td>\n",
       "      <td>Q1</td>\n",
       "      <td>0.000000</td>\n",
       "    </tr>\n",
       "    <tr>\n",
       "      <th>1</th>\n",
       "      <td>Can Baró</td>\n",
       "      <td>Horta-Guinardó</td>\n",
       "      <td>45922</td>\n",
       "      <td>None</td>\n",
       "      <td>None</td>\n",
       "      <td>None</td>\n",
       "      <td>9233</td>\n",
       "      <td>14.3</td>\n",
       "      <td>645</td>\n",
       "      <td>1</td>\n",
       "      <td>0</td>\n",
       "      <td>0</td>\n",
       "      <td>0</td>\n",
       "      <td>0.000000</td>\n",
       "      <td>0.000000</td>\n",
       "      <td>Q2</td>\n",
       "      <td>0.000000</td>\n",
       "    </tr>\n",
       "    <tr>\n",
       "      <th>2</th>\n",
       "      <td>Can Peguera</td>\n",
       "      <td>Nou Barris</td>\n",
       "      <td>28117</td>\n",
       "      <td>None</td>\n",
       "      <td>None</td>\n",
       "      <td>None</td>\n",
       "      <td>2204</td>\n",
       "      <td>6.1</td>\n",
       "      <td>359</td>\n",
       "      <td>1</td>\n",
       "      <td>0</td>\n",
       "      <td>0</td>\n",
       "      <td>0</td>\n",
       "      <td>0.000000</td>\n",
       "      <td>0.000000</td>\n",
       "      <td>Q1</td>\n",
       "      <td>0.000000</td>\n",
       "    </tr>\n",
       "    <tr>\n",
       "      <th>3</th>\n",
       "      <td>Canyelles</td>\n",
       "      <td>Nou Barris</td>\n",
       "      <td>43158</td>\n",
       "      <td>None</td>\n",
       "      <td>None</td>\n",
       "      <td>None</td>\n",
       "      <td>6797</td>\n",
       "      <td>11.0</td>\n",
       "      <td>620</td>\n",
       "      <td>1</td>\n",
       "      <td>0</td>\n",
       "      <td>0</td>\n",
       "      <td>0</td>\n",
       "      <td>0.000000</td>\n",
       "      <td>0.000000</td>\n",
       "      <td>Q2</td>\n",
       "      <td>0.000000</td>\n",
       "    </tr>\n",
       "    <tr>\n",
       "      <th>4</th>\n",
       "      <td>Ciutat Meridiana</td>\n",
       "      <td>Nou Barris</td>\n",
       "      <td>29393</td>\n",
       "      <td>None</td>\n",
       "      <td>None</td>\n",
       "      <td>None</td>\n",
       "      <td>11026</td>\n",
       "      <td>15.1</td>\n",
       "      <td>729</td>\n",
       "      <td>1</td>\n",
       "      <td>0</td>\n",
       "      <td>0</td>\n",
       "      <td>0</td>\n",
       "      <td>0.000000</td>\n",
       "      <td>0.000000</td>\n",
       "      <td>Q1</td>\n",
       "      <td>0.000000</td>\n",
       "    </tr>\n",
       "    <tr>\n",
       "      <th>...</th>\n",
       "      <td>...</td>\n",
       "      <td>...</td>\n",
       "      <td>...</td>\n",
       "      <td>...</td>\n",
       "      <td>...</td>\n",
       "      <td>...</td>\n",
       "      <td>...</td>\n",
       "      <td>...</td>\n",
       "      <td>...</td>\n",
       "      <td>...</td>\n",
       "      <td>...</td>\n",
       "      <td>...</td>\n",
       "      <td>...</td>\n",
       "      <td>...</td>\n",
       "      <td>...</td>\n",
       "      <td>...</td>\n",
       "      <td>...</td>\n",
       "    </tr>\n",
       "    <tr>\n",
       "      <th>68</th>\n",
       "      <td>la Vila Olímpica del Poblenou</td>\n",
       "      <td>Sant Martí</td>\n",
       "      <td>83317</td>\n",
       "      <td>Centre d'Atenció Primària Vila Olímpica</td>\n",
       "      <td>CAP</td>\n",
       "      <td>Public</td>\n",
       "      <td>9240</td>\n",
       "      <td>24.3</td>\n",
       "      <td>380</td>\n",
       "      <td>0</td>\n",
       "      <td>0</td>\n",
       "      <td>1</td>\n",
       "      <td>1</td>\n",
       "      <td>0.000108</td>\n",
       "      <td>0.002632</td>\n",
       "      <td>Q4</td>\n",
       "      <td>0.000000</td>\n",
       "    </tr>\n",
       "    <tr>\n",
       "      <th>69</th>\n",
       "      <td>la Vila de Gràcia</td>\n",
       "      <td>Gràcia</td>\n",
       "      <td>50733</td>\n",
       "      <td>Clínica Sanza, Centre d'Atenció Primària  Vila...</td>\n",
       "      <td>Other, CAP, Other</td>\n",
       "      <td>Private, Public, Private</td>\n",
       "      <td>49492</td>\n",
       "      <td>84.0</td>\n",
       "      <td>589</td>\n",
       "      <td>0</td>\n",
       "      <td>2</td>\n",
       "      <td>1</td>\n",
       "      <td>3</td>\n",
       "      <td>0.000061</td>\n",
       "      <td>0.005093</td>\n",
       "      <td>Q3</td>\n",
       "      <td>0.666667</td>\n",
       "    </tr>\n",
       "    <tr>\n",
       "      <th>70</th>\n",
       "      <td>les Corts</td>\n",
       "      <td>Les Corts</td>\n",
       "      <td>65816</td>\n",
       "      <td>Clínica Institut Marquès, Hospital de Barcelon...</td>\n",
       "      <td>Other, Hospital, Hospital, CAP</td>\n",
       "      <td>Private, Private, Private, Public</td>\n",
       "      <td>45422</td>\n",
       "      <td>64.7</td>\n",
       "      <td>702</td>\n",
       "      <td>0</td>\n",
       "      <td>3</td>\n",
       "      <td>1</td>\n",
       "      <td>4</td>\n",
       "      <td>0.000088</td>\n",
       "      <td>0.005698</td>\n",
       "      <td>Q4</td>\n",
       "      <td>0.750000</td>\n",
       "    </tr>\n",
       "    <tr>\n",
       "      <th>71</th>\n",
       "      <td>les Roquetes</td>\n",
       "      <td>Nou Barris</td>\n",
       "      <td>31584</td>\n",
       "      <td>Centre d'Atenció Primària Roquetes</td>\n",
       "      <td>CAP</td>\n",
       "      <td>Public</td>\n",
       "      <td>16373</td>\n",
       "      <td>18.2</td>\n",
       "      <td>897</td>\n",
       "      <td>0</td>\n",
       "      <td>0</td>\n",
       "      <td>1</td>\n",
       "      <td>1</td>\n",
       "      <td>0.000061</td>\n",
       "      <td>0.001115</td>\n",
       "      <td>Q1</td>\n",
       "      <td>0.000000</td>\n",
       "    </tr>\n",
       "    <tr>\n",
       "      <th>72</th>\n",
       "      <td>les Tres Torres</td>\n",
       "      <td>Sarrià-Sant Gervasi</td>\n",
       "      <td>131719</td>\n",
       "      <td>Clínica Oftalvist, Clinica del Son Estivill, I...</td>\n",
       "      <td>Other, Other, Other, Other, Other, Other</td>\n",
       "      <td>Private, Private, Private, Private, Private, P...</td>\n",
       "      <td>16228</td>\n",
       "      <td>42.5</td>\n",
       "      <td>382</td>\n",
       "      <td>0</td>\n",
       "      <td>6</td>\n",
       "      <td>0</td>\n",
       "      <td>6</td>\n",
       "      <td>0.000370</td>\n",
       "      <td>0.015707</td>\n",
       "      <td>Q4</td>\n",
       "      <td>1.000000</td>\n",
       "    </tr>\n",
       "  </tbody>\n",
       "</table>\n",
       "<p>73 rows × 17 columns</p>\n",
       "</div>"
      ],
      "text/plain": [
       "                neighborhood_name        district_name  median_income  \\\n",
       "0                   Baró de Viver          Sant Andreu          29438   \n",
       "1                        Can Baró       Horta-Guinardó          45922   \n",
       "2                     Can Peguera           Nou Barris          28117   \n",
       "3                       Canyelles           Nou Barris          43158   \n",
       "4                Ciutat Meridiana           Nou Barris          29393   \n",
       "..                            ...                  ...            ...   \n",
       "68  la Vila Olímpica del Poblenou           Sant Martí          83317   \n",
       "69              la Vila de Gràcia               Gràcia          50733   \n",
       "70                      les Corts            Les Corts          65816   \n",
       "71                   les Roquetes           Nou Barris          31584   \n",
       "72                les Tres Torres  Sarrià-Sant Gervasi         131719   \n",
       "\n",
       "                                       medical_center  \\\n",
       "0                                                None   \n",
       "1                                                None   \n",
       "2                                                None   \n",
       "3                                                None   \n",
       "4                                                None   \n",
       "..                                                ...   \n",
       "68            Centre d'Atenció Primària Vila Olímpica   \n",
       "69  Clínica Sanza, Centre d'Atenció Primària  Vila...   \n",
       "70  Clínica Institut Marquès, Hospital de Barcelon...   \n",
       "71                 Centre d'Atenció Primària Roquetes   \n",
       "72  Clínica Oftalvist, Clinica del Son Estivill, I...   \n",
       "\n",
       "                                        type  \\\n",
       "0                                       None   \n",
       "1                                       None   \n",
       "2                                       None   \n",
       "3                                       None   \n",
       "4                                       None   \n",
       "..                                       ...   \n",
       "68                                       CAP   \n",
       "69                         Other, CAP, Other   \n",
       "70            Other, Hospital, Hospital, CAP   \n",
       "71                                       CAP   \n",
       "72  Other, Other, Other, Other, Other, Other   \n",
       "\n",
       "                                                admin  population  \\\n",
       "0                                                None        2645   \n",
       "1                                                None        9233   \n",
       "2                                                None        2204   \n",
       "3                                                None        6797   \n",
       "4                                                None       11026   \n",
       "..                                                ...         ...   \n",
       "68                                             Public        9240   \n",
       "69                           Private, Public, Private       49492   \n",
       "70                  Private, Private, Private, Public       45422   \n",
       "71                                             Public       16373   \n",
       "72  Private, Private, Private, Private, Private, P...       16228   \n",
       "\n",
       "    residential_area_ha  net_density_hab_ha  none  private  public  \\\n",
       "0                   3.9                 673     1        0       0   \n",
       "1                  14.3                 645     1        0       0   \n",
       "2                   6.1                 359     1        0       0   \n",
       "3                  11.0                 620     1        0       0   \n",
       "4                  15.1                 729     1        0       0   \n",
       "..                  ...                 ...   ...      ...     ...   \n",
       "68                 24.3                 380     0        0       1   \n",
       "69                 84.0                 589     0        2       1   \n",
       "70                 64.7                 702     0        3       1   \n",
       "71                 18.2                 897     0        0       1   \n",
       "72                 42.5                 382     0        6       0   \n",
       "\n",
       "    medical_center_count  med_centers_per_pop  med_centers_per_density  \\\n",
       "0                      0             0.000000                 0.000000   \n",
       "1                      0             0.000000                 0.000000   \n",
       "2                      0             0.000000                 0.000000   \n",
       "3                      0             0.000000                 0.000000   \n",
       "4                      0             0.000000                 0.000000   \n",
       "..                   ...                  ...                      ...   \n",
       "68                     1             0.000108                 0.002632   \n",
       "69                     3             0.000061                 0.005093   \n",
       "70                     4             0.000088                 0.005698   \n",
       "71                     1             0.000061                 0.001115   \n",
       "72                     6             0.000370                 0.015707   \n",
       "\n",
       "   income_quartile  private_proportion  \n",
       "0               Q1            0.000000  \n",
       "1               Q2            0.000000  \n",
       "2               Q1            0.000000  \n",
       "3               Q2            0.000000  \n",
       "4               Q1            0.000000  \n",
       "..             ...                 ...  \n",
       "68              Q4            0.000000  \n",
       "69              Q3            0.666667  \n",
       "70              Q4            0.750000  \n",
       "71              Q1            0.000000  \n",
       "72              Q4            1.000000  \n",
       "\n",
       "[73 rows x 17 columns]"
      ]
     },
     "execution_count": 2,
     "metadata": {},
     "output_type": "execute_result"
    }
   ],
   "source": [
    "healthcare_df = pd.read_csv('barcelona_healthcare_df.csv')\n",
    "healthcare_df"
   ]
  },
  {
   "cell_type": "markdown",
   "id": "4de75d10",
   "metadata": {},
   "source": [
    "# Hypothesis testing 1: Pearson\n",
    "\n",
    "### Explore whether higher income neighborhoods have a higher number of medical centers (medical_center_count)."
   ]
  },
  {
   "cell_type": "markdown",
   "id": "182abf18",
   "metadata": {},
   "source": [
    "In the context of urban studies and public health, it is crucial to understand the dynamics between socioeconomic factors and healthcare facility distribution. This project focuses on Barcelona's diverse neighborhoods, analyzing a potential relationship between the neighborhoods' median income and the accessibility to healthcare services, represented by the quantity of medical centers and hospitals. \n",
    "\n",
    "The central question driving this analysis is: \"What is the relationship between the median income of Barcelona's neighborhoods and the availability of healthcare facilities within these areas?\"\n",
    "\n",
    "To address this question, I hypothesize a positive correlation between the median income and the number of healthcare facilities. In other words, it's presumed that neighborhoods with higher median incomes are likely to have a greater number of medical centers and hospitals.\n",
    "\n",
    "To test this hypothesis, a Pearson correlation analysis is used due to its effectiveness in measuring the degree of linear relationship between two continuous variables. This method will help determine if the data supports the hypothesis or if we should consider it unsubstantiated."
   ]
  },
  {
   "cell_type": "markdown",
   "id": "299f3b01",
   "metadata": {},
   "source": [
    "## Null Hypothesis (H0) and Alternative Hypothesis (H1)"
   ]
  },
  {
   "cell_type": "markdown",
   "id": "6b4e3e3c",
   "metadata": {},
   "source": [
    "**Null Hypothesis (H0):** There is no correlation between the median income of neighborhoods in Barcelona and the number of healthcare facilities within these areas. This means that the median income does not affect the distribution of medical centers and hospitals.\n",
    "\n",
    "**Alternative Hypothesis (H1):** There is a positive correlation between the median income of neighborhoods in Barcelona and the number of healthcare facilities within these areas. This suggests that neighborhoods with higher median incomes tend to have more medical centers and hospitals."
   ]
  },
  {
   "cell_type": "markdown",
   "id": "f49d298e",
   "metadata": {},
   "source": [
    "### Step-by-step process and the corresponding code"
   ]
  },
  {
   "cell_type": "code",
   "execution_count": 3,
   "id": "66e55b09",
   "metadata": {},
   "outputs": [],
   "source": [
    "# Calculate the Pearson correlation coefficient between median income and number of medical centers\n",
    "correlation_coef, p_value = pearsonr(healthcare_df['median_income'], healthcare_df['medical_center_count'])"
   ]
  },
  {
   "cell_type": "markdown",
   "id": "d2bcc520",
   "metadata": {},
   "source": [
    "### Pearson correlation coefficient and the p-value"
   ]
  },
  {
   "cell_type": "code",
   "execution_count": 4,
   "id": "b0a01b80",
   "metadata": {},
   "outputs": [
    {
     "name": "stdout",
     "output_type": "stream",
     "text": [
      "Pearson Correlation Coefficient: 0.46269441929168725\n",
      "P-value: 3.7639366355539245e-05\n"
     ]
    }
   ],
   "source": [
    "# Print out the Pearson correlation coefficient and the p-value\n",
    "print(f'Pearson Correlation Coefficient: {correlation_coef}')\n",
    "print(f'P-value: {p_value}')"
   ]
  },
  {
   "cell_type": "markdown",
   "id": "cb94d61d",
   "metadata": {},
   "source": [
    "**Pearson Correlation Coefficient: 0.46**\n",
    "\n",
    "This value is the Pearson correlation coefficient, which measures the strength and direction of the linear relationship between two continuous variables. In this case, the value is approximately 0.46, suggesting a **moderate positive correlation between the two variables**.\n",
    "\n",
    "**P-value: 3.76e-05**\n",
    "\n",
    "This value is the p-value, representing the probability that the observed correlation between the two variables is due to random chance. The lower the p-value, the stronger the evidence against the null hypothesis. In this case, the **p-value is very small**, indicating that it is highly unlikely that the observed correlation is due to random chance. Therefore, we can conclude that **there is a significant correlation between the two variables**."
   ]
  },
  {
   "cell_type": "markdown",
   "id": "64faffd5",
   "metadata": {},
   "source": [
    "### Results"
   ]
  },
  {
   "cell_type": "code",
   "execution_count": 5,
   "id": "250fa8e5",
   "metadata": {},
   "outputs": [
    {
     "name": "stdout",
     "output_type": "stream",
     "text": [
      "The null hypothesis is rejected, indicating a statistically significant correlation between median income and the number of medical centers.\n"
     ]
    }
   ],
   "source": [
    "# Interpret the results\n",
    "# If the p-value is less than 0.05, the correlation is statistically significant\n",
    "if p_value < 0.05:\n",
    "    print(\"The null hypothesis is rejected, indicating a statistically significant correlation between median income and the number of medical centers.\")\n",
    "else:\n",
    "    print(\"The null hypothesis cannot be rejected, indicating no statistically significant correlation between median income and the number of medical centers.\")"
   ]
  },
  {
   "cell_type": "markdown",
   "id": "1c62a037",
   "metadata": {},
   "source": [
    "**The rejection of the null hypothesis (H0) implies that the data provides evidence in favor of the alternative hypothesis (H1).**\n",
    "\n",
    "In simpler terms, it means that **there is a statistically significant relationship between higher median incomes and a greater number of medical centers in neighborhoods**."
   ]
  },
  {
   "cell_type": "markdown",
   "id": "87b2bd45",
   "metadata": {},
   "source": [
    "The total count of medical centers directly reflects the absolute availability of healthcare facilities in a neighborhood, which aligns well with the initial hypothesis regarding the relationship between income and healthcare facility availability.\n",
    "\n",
    "On the other hand, med_centers_per_density takes into account the population density, providing a measure of healthcare availability relative to the number of people living in the area. This metric could be more indicative of the accessibility of medical services for the residents.\n",
    "\n",
    "medical_center_count it's based on simplicity and a direct approach to testing the hypothesis, because the main question is about the absolute availability of healthcare resources rather than a per capita or density-based measure. However, I will check on the accessibility of healthcare relative to population needs, med_centers_per_density. It might be a more appropriate variable to test."
   ]
  },
  {
   "cell_type": "markdown",
   "id": "b4dd3290",
   "metadata": {},
   "source": [
    "# Hypothesis testing 2: Pearson\n",
    "\n",
    "### Examine if the number of medical centers relative to population density (med_centers_per_density) is associated with higher median income."
   ]
  },
  {
   "cell_type": "markdown",
   "id": "08fc41c1",
   "metadata": {},
   "source": [
    "## Null Hypothesis (H0) and Alternative Hypothesis (H1)"
   ]
  },
  {
   "cell_type": "markdown",
   "id": "31b3b60c",
   "metadata": {},
   "source": [
    "**Null Hypothesis (H0):** There is no correlation between the median income of neighborhoods in Barcelona and the number of medical centers per unit of population density. This means that the median income does not significantly predict the medical centers' density.\n",
    "\n",
    "**Alternative Hypothesis (H1):** There is a positive correlation between the median income of neighborhoods in Barcelona and the number of medical centers per unit of population density. This implies that neighborhoods with higher median incomes have a higher density of medical centers relative to their population."
   ]
  },
  {
   "cell_type": "markdown",
   "id": "1b500486",
   "metadata": {},
   "source": [
    "### Step-by-step process and the corresponding code"
   ]
  },
  {
   "cell_type": "code",
   "execution_count": 6,
   "id": "38f214be",
   "metadata": {},
   "outputs": [],
   "source": [
    "# Import necessary libraries\n",
    "import scipy.stats as stats"
   ]
  },
  {
   "cell_type": "code",
   "execution_count": 7,
   "id": "c9a29253",
   "metadata": {},
   "outputs": [
    {
     "name": "stdout",
     "output_type": "stream",
     "text": [
      "Pearson Correlation Coefficient: 0.47169436787919383\n",
      "P-value: 2.5250981467307166e-05\n"
     ]
    }
   ],
   "source": [
    "# Calculate the Pearson correlation coefficient and p-value\n",
    "correlation_coef, p_value = stats.pearsonr(healthcare_df['median_income'], healthcare_df['med_centers_per_density'])\n",
    "\n",
    "# Output the Pearson correlation coefficient and the p-value\n",
    "print(f\"Pearson Correlation Coefficient: {correlation_coef}\")\n",
    "print(f\"P-value: {p_value}\")"
   ]
  },
  {
   "cell_type": "markdown",
   "id": "d3c43b33",
   "metadata": {},
   "source": [
    "#### Pearson Correlation Coefficient: 0.47\n",
    "\n",
    "The coefficient is approximately 0.47, indicating a **moderate positive linear correlation between median income and the number of medical centers per population density**.\n",
    "\n",
    "#### P-value: 2.53e-05\n",
    "\n",
    "The extremely small p-value suggests that the correlation observed is highly statistically significant. This means that there is **strong evidence to conclude that there is a real and non-random relationship between median income and the number of medical centers per population density**."
   ]
  },
  {
   "cell_type": "markdown",
   "id": "4d9f9083",
   "metadata": {},
   "source": [
    "### Results"
   ]
  },
  {
   "cell_type": "code",
   "execution_count": 8,
   "id": "59fc0fdf",
   "metadata": {
    "scrolled": true
   },
   "outputs": [
    {
     "name": "stdout",
     "output_type": "stream",
     "text": [
      "The null hypothesis is rejected, indicating a statistically significant correlation between median income and medical centers per population density.\n"
     ]
    }
   ],
   "source": [
    "# Interpret the results\n",
    "if p_value < 0.05:\n",
    "    print(\"The null hypothesis is rejected, indicating a statistically significant correlation between median income and medical centers per population density.\")\n",
    "else:\n",
    "    print(\"The null hypothesis cannot be rejected, indicating no statistically significant correlation between median income and medical centers per population density.\")"
   ]
  },
  {
   "cell_type": "markdown",
   "id": "a05b1c64",
   "metadata": {},
   "source": [
    "**The rejection of the null hypothesis (H0) implies that the data provides evidence in favor of the alternative hypothesis (H1).**\n",
    "\n",
    "In simpler terms, it also means that **there is a statistically significant relationship between higher median incomes and a greater number of medical centers in neighborhoods**."
   ]
  },
  {
   "cell_type": "markdown",
   "id": "4198a1fb",
   "metadata": {},
   "source": [
    "# Additional Hypothesis Tests"
   ]
  },
  {
   "cell_type": "markdown",
   "id": "c8410ecd",
   "metadata": {},
   "source": [
    "Given the focus on understanding the socioeconomic factors influencing healthcare distribution, the following hypothesis tests seem most relevant:\n",
    "\n",
    "Tests like the correlation between income and the type of medical centers, and the influence of population density on healthcare access, directly contribute to understanding the socioeconomic factors influencing healthcare distribution."
   ]
  },
  {
   "cell_type": "markdown",
   "id": "1b2fe235",
   "metadata": {},
   "source": [
    "These tests would directly address the socio-economic disparities in healthcare access and provision."
   ]
  },
  {
   "cell_type": "markdown",
   "id": "da2efc4b",
   "metadata": {},
   "source": [
    "# Hypothesis testing 3: Pearson\n",
    "\n",
    "### Correlation between Median Income and Type (public or private) of Medical Centers."
   ]
  },
  {
   "cell_type": "markdown",
   "id": "db042311",
   "metadata": {},
   "source": [
    "## Null Hypothesis (H0) and Alternative Hypothesis (H1)"
   ]
  },
  {
   "cell_type": "markdown",
   "id": "33950dee",
   "metadata": {},
   "source": [
    "**Null Hypothesis (H0):** There is no significant difference in the proportion of private vs. public medical centers across neighborhoods with varying median incomes.\n",
    "\n",
    "**Alternative Hypothesis (H1):** Neighborhoods with higher median incomes have a significantly different proportion of private vs. public medical centers compared to neighborhoods with lower median incomes."
   ]
  },
  {
   "cell_type": "markdown",
   "id": "c99247f9",
   "metadata": {},
   "source": [
    "### Step-by-step process and the corresponding code"
   ]
  },
  {
   "cell_type": "code",
   "execution_count": 9,
   "id": "f7dd54aa",
   "metadata": {},
   "outputs": [],
   "source": [
    "# Calculate the proportion of private medical centers\n",
    "healthcare_df['private_proportion'] = healthcare_df['private'] / (healthcare_df['private'] + healthcare_df['public'] + healthcare_df['none'])"
   ]
  },
  {
   "cell_type": "code",
   "execution_count": 10,
   "id": "7f34c656",
   "metadata": {},
   "outputs": [
    {
     "data": {
      "text/html": [
       "<div>\n",
       "<style scoped>\n",
       "    .dataframe tbody tr th:only-of-type {\n",
       "        vertical-align: middle;\n",
       "    }\n",
       "\n",
       "    .dataframe tbody tr th {\n",
       "        vertical-align: top;\n",
       "    }\n",
       "\n",
       "    .dataframe thead th {\n",
       "        text-align: right;\n",
       "    }\n",
       "</style>\n",
       "<table border=\"1\" class=\"dataframe\">\n",
       "  <thead>\n",
       "    <tr style=\"text-align: right;\">\n",
       "      <th></th>\n",
       "      <th>private_proportion</th>\n",
       "    </tr>\n",
       "  </thead>\n",
       "  <tbody>\n",
       "    <tr>\n",
       "      <th>0</th>\n",
       "      <td>0.000000</td>\n",
       "    </tr>\n",
       "    <tr>\n",
       "      <th>1</th>\n",
       "      <td>0.000000</td>\n",
       "    </tr>\n",
       "    <tr>\n",
       "      <th>2</th>\n",
       "      <td>0.000000</td>\n",
       "    </tr>\n",
       "    <tr>\n",
       "      <th>3</th>\n",
       "      <td>0.000000</td>\n",
       "    </tr>\n",
       "    <tr>\n",
       "      <th>4</th>\n",
       "      <td>0.000000</td>\n",
       "    </tr>\n",
       "    <tr>\n",
       "      <th>...</th>\n",
       "      <td>...</td>\n",
       "    </tr>\n",
       "    <tr>\n",
       "      <th>68</th>\n",
       "      <td>0.000000</td>\n",
       "    </tr>\n",
       "    <tr>\n",
       "      <th>69</th>\n",
       "      <td>0.666667</td>\n",
       "    </tr>\n",
       "    <tr>\n",
       "      <th>70</th>\n",
       "      <td>0.750000</td>\n",
       "    </tr>\n",
       "    <tr>\n",
       "      <th>71</th>\n",
       "      <td>0.000000</td>\n",
       "    </tr>\n",
       "    <tr>\n",
       "      <th>72</th>\n",
       "      <td>1.000000</td>\n",
       "    </tr>\n",
       "  </tbody>\n",
       "</table>\n",
       "<p>73 rows × 1 columns</p>\n",
       "</div>"
      ],
      "text/plain": [
       "    private_proportion\n",
       "0             0.000000\n",
       "1             0.000000\n",
       "2             0.000000\n",
       "3             0.000000\n",
       "4             0.000000\n",
       "..                 ...\n",
       "68            0.000000\n",
       "69            0.666667\n",
       "70            0.750000\n",
       "71            0.000000\n",
       "72            1.000000\n",
       "\n",
       "[73 rows x 1 columns]"
      ]
     },
     "execution_count": 10,
     "metadata": {},
     "output_type": "execute_result"
    }
   ],
   "source": [
    "healthcare_df[['private_proportion']]"
   ]
  },
  {
   "cell_type": "code",
   "execution_count": 11,
   "id": "1bdd438b",
   "metadata": {},
   "outputs": [
    {
     "name": "stdout",
     "output_type": "stream",
     "text": [
      "Pearson Correlation Coefficient: 0.41550925852958875\n",
      "p-value: 0.0002565906044986082\n"
     ]
    }
   ],
   "source": [
    "# Perform a Pearson correlation test\n",
    "correlation_coef, p_value = stats.pearsonr(healthcare_df['median_income'], healthcare_df['private_proportion'])\n",
    "\n",
    "# Print out the Pearson correlation coefficient and the p-value\n",
    "print(f'Pearson Correlation Coefficient: {correlation_coef}')\n",
    "print(f'p-value: {p_value}')"
   ]
  },
  {
   "cell_type": "markdown",
   "id": "9da2d54a",
   "metadata": {},
   "source": [
    "#### Pearson Correlation Coefficient: 0.41\n",
    "\n",
    "Suggests a **moderate positive relationship between the median income of neighborhoods and the proportion of private medical centers**. This means that **as the median income in a neighborhood increases, the proportion of private medical centers compared to public ones tends also to increase**.\n",
    "\n",
    "#### P-value: 0.00026 \n",
    "\n",
    "Is less than the typical alpha level of 0.05, indicating that **the result is statistically significant**. Therefore, you can reject the null hypothesis, which stated there was no significant correlation between median income and the proportion of private versus public medical centers."
   ]
  },
  {
   "cell_type": "markdown",
   "id": "f618bce5",
   "metadata": {},
   "source": [
    "### Results"
   ]
  },
  {
   "cell_type": "code",
   "execution_count": 12,
   "id": "87e4f65a",
   "metadata": {},
   "outputs": [
    {
     "name": "stdout",
     "output_type": "stream",
     "text": [
      "The null hypothesis is rejected, indicating a statistically significant difference in the proportion of private vs. public medical centers across neighborhoods with varying median incomes.\n"
     ]
    }
   ],
   "source": [
    "# Interpret the results\n",
    "if p_value < 0.05:\n",
    "    print(\"The null hypothesis is rejected, indicating a statistically significant difference in the proportion of private vs. public medical centers across neighborhoods with varying median incomes.\")\n",
    "else:\n",
    "    print(\"The null hypothesis cannot be rejected, indicating no statistically significant difference in the proportion of private vs. public medical centers across neighborhoods with varying median incomes.\")"
   ]
  },
  {
   "cell_type": "markdown",
   "id": "ab23490f",
   "metadata": {},
   "source": [
    "#### Insight: \n",
    "\n",
    "This significant correlation suggests that **wealthier neighborhoods in Barcelona are likely to have a higher proportion of private medical centers relative to public ones, which could reflect economic disparities in access to different types of healthcare facilities**. \n",
    "\n",
    "It implies that **in neighborhoods with higher incomes, residents might have greater access to private healthcare services.**"
   ]
  },
  {
   "cell_type": "markdown",
   "id": "477b392b",
   "metadata": {},
   "source": [
    "# Hypothesis testing 4: Pearson\n",
    "\n",
    "### Influence of Population Density on Healthcare Access"
   ]
  },
  {
   "cell_type": "markdown",
   "id": "960fa19a",
   "metadata": {},
   "source": [
    "## Null Hypothesis (H0) and Alternative Hypothesis (H1)"
   ]
  },
  {
   "cell_type": "markdown",
   "id": "7febd956",
   "metadata": {},
   "source": [
    "**Null Hypothesis (H0):** Population density is not a significant predictor of the total number of healthcare facilities in neighborhoods.\n",
    "\n",
    "**Alternative Hypothesis (H1):** There is a significant correlation between population density and the total number of healthcare facilities, with more densely populated neighborhoods having more healthcare facilities."
   ]
  },
  {
   "cell_type": "markdown",
   "id": "7e25dfd4",
   "metadata": {},
   "source": [
    "### Step-by-step process and the corresponding code"
   ]
  },
  {
   "cell_type": "code",
   "execution_count": 13,
   "id": "ce68d578",
   "metadata": {},
   "outputs": [
    {
     "name": "stdout",
     "output_type": "stream",
     "text": [
      "Pearson Correlation Coefficient: -0.09551118358468128\n",
      "p-value: 0.42151071945081625\n"
     ]
    }
   ],
   "source": [
    "# Perform a Pearson correlation test\n",
    "correlation_coef, p_value = stats.pearsonr(healthcare_df['net_density_hab_ha'], healthcare_df['medical_center_count'])\n",
    "\n",
    "# Print out the Pearson correlation coefficient and the p-value\n",
    "print(f'Pearson Correlation Coefficient: {correlation_coef}')\n",
    "print(f'p-value: {p_value}')"
   ]
  },
  {
   "cell_type": "markdown",
   "id": "02c138f8",
   "metadata": {},
   "source": [
    "#### Pearson Correlation Coefficient: -0.095\n",
    "\n",
    "This coefficient value is close to zero and negative, indicating a **very weak inverse relationship between population density and the total number of healthcare facilities**. This means that **as population density increases, the total number of healthcare facilities does not necessarily increase** and may decrease slightly.\n",
    "\n",
    "#### P-value: 0.42 \n",
    "\n",
    "This value is much greater than the common alpha level of 0.05, which suggests that the **observed correlation (or lack thereof) could very likely be due to random chance rather than a true effect in the population**."
   ]
  },
  {
   "cell_type": "markdown",
   "id": "4a500e78",
   "metadata": {},
   "source": [
    "### Results"
   ]
  },
  {
   "cell_type": "code",
   "execution_count": 14,
   "id": "9a6aad17",
   "metadata": {},
   "outputs": [
    {
     "name": "stdout",
     "output_type": "stream",
     "text": [
      "The null hypothesis (H0) cannot be rejected, indicating no statistically significant correlation between population density and the total number of healthcare facilities.\n"
     ]
    }
   ],
   "source": [
    "# Interpret the results\n",
    "if p_value < 0.05:\n",
    "    print(\"The null hypothesis (H0) is rejected, indicating a statistically significant correlation between population density and the total number of healthcare facilities.\")\n",
    "else:\n",
    "    print(\"The null hypothesis (H0) cannot be rejected, indicating no statistically significant correlation between population density and the total number of healthcare facilities.\")"
   ]
  },
  {
   "cell_type": "markdown",
   "id": "6b9c2b97",
   "metadata": {},
   "source": [
    "#### Interpretation of Results: \n",
    "\n",
    "Because the p-value is not less than 0.05, we fail to reject the null hypothesis. There is **no statistically significant evidence to suggest that population density is a predictor of the total number of healthcare facilities**. \n",
    "\n",
    "In practical terms, this means that **the analysis did not find a meaningful or systematic relationship between how densely populated a neighborhood is and how many healthcare facilities it has**.\n",
    "\n",
    "#### In terms of insights:\n",
    "\n",
    "It implies that **other factors may play a more significant role in determining the number of healthcare facilities in a neighborhood** than simply how many people live there per unit area. It could be useful to look at other variables such as median income (as we did), the availability of land, zoning laws, or historical investment patterns to understand the distribution of healthcare facilities better."
   ]
  },
  {
   "cell_type": "markdown",
   "id": "96bf9cd7",
   "metadata": {},
   "source": [
    "### Check healthcare_df"
   ]
  },
  {
   "cell_type": "code",
   "execution_count": 15,
   "id": "2443c327",
   "metadata": {},
   "outputs": [
    {
     "data": {
      "text/html": [
       "<div>\n",
       "<style scoped>\n",
       "    .dataframe tbody tr th:only-of-type {\n",
       "        vertical-align: middle;\n",
       "    }\n",
       "\n",
       "    .dataframe tbody tr th {\n",
       "        vertical-align: top;\n",
       "    }\n",
       "\n",
       "    .dataframe thead th {\n",
       "        text-align: right;\n",
       "    }\n",
       "</style>\n",
       "<table border=\"1\" class=\"dataframe\">\n",
       "  <thead>\n",
       "    <tr style=\"text-align: right;\">\n",
       "      <th></th>\n",
       "      <th>neighborhood_name</th>\n",
       "      <th>district_name</th>\n",
       "      <th>median_income</th>\n",
       "      <th>medical_center</th>\n",
       "      <th>type</th>\n",
       "      <th>admin</th>\n",
       "      <th>population</th>\n",
       "      <th>residential_area_ha</th>\n",
       "      <th>net_density_hab_ha</th>\n",
       "      <th>none</th>\n",
       "      <th>private</th>\n",
       "      <th>public</th>\n",
       "      <th>medical_center_count</th>\n",
       "      <th>med_centers_per_pop</th>\n",
       "      <th>med_centers_per_density</th>\n",
       "      <th>income_quartile</th>\n",
       "      <th>private_proportion</th>\n",
       "    </tr>\n",
       "  </thead>\n",
       "  <tbody>\n",
       "    <tr>\n",
       "      <th>0</th>\n",
       "      <td>Baró de Viver</td>\n",
       "      <td>Sant Andreu</td>\n",
       "      <td>29438</td>\n",
       "      <td>None</td>\n",
       "      <td>None</td>\n",
       "      <td>None</td>\n",
       "      <td>2645</td>\n",
       "      <td>3.9</td>\n",
       "      <td>673</td>\n",
       "      <td>1</td>\n",
       "      <td>0</td>\n",
       "      <td>0</td>\n",
       "      <td>0</td>\n",
       "      <td>0.000000</td>\n",
       "      <td>0.000000</td>\n",
       "      <td>Q1</td>\n",
       "      <td>0.000000</td>\n",
       "    </tr>\n",
       "    <tr>\n",
       "      <th>1</th>\n",
       "      <td>Can Baró</td>\n",
       "      <td>Horta-Guinardó</td>\n",
       "      <td>45922</td>\n",
       "      <td>None</td>\n",
       "      <td>None</td>\n",
       "      <td>None</td>\n",
       "      <td>9233</td>\n",
       "      <td>14.3</td>\n",
       "      <td>645</td>\n",
       "      <td>1</td>\n",
       "      <td>0</td>\n",
       "      <td>0</td>\n",
       "      <td>0</td>\n",
       "      <td>0.000000</td>\n",
       "      <td>0.000000</td>\n",
       "      <td>Q2</td>\n",
       "      <td>0.000000</td>\n",
       "    </tr>\n",
       "    <tr>\n",
       "      <th>2</th>\n",
       "      <td>Can Peguera</td>\n",
       "      <td>Nou Barris</td>\n",
       "      <td>28117</td>\n",
       "      <td>None</td>\n",
       "      <td>None</td>\n",
       "      <td>None</td>\n",
       "      <td>2204</td>\n",
       "      <td>6.1</td>\n",
       "      <td>359</td>\n",
       "      <td>1</td>\n",
       "      <td>0</td>\n",
       "      <td>0</td>\n",
       "      <td>0</td>\n",
       "      <td>0.000000</td>\n",
       "      <td>0.000000</td>\n",
       "      <td>Q1</td>\n",
       "      <td>0.000000</td>\n",
       "    </tr>\n",
       "    <tr>\n",
       "      <th>3</th>\n",
       "      <td>Canyelles</td>\n",
       "      <td>Nou Barris</td>\n",
       "      <td>43158</td>\n",
       "      <td>None</td>\n",
       "      <td>None</td>\n",
       "      <td>None</td>\n",
       "      <td>6797</td>\n",
       "      <td>11.0</td>\n",
       "      <td>620</td>\n",
       "      <td>1</td>\n",
       "      <td>0</td>\n",
       "      <td>0</td>\n",
       "      <td>0</td>\n",
       "      <td>0.000000</td>\n",
       "      <td>0.000000</td>\n",
       "      <td>Q2</td>\n",
       "      <td>0.000000</td>\n",
       "    </tr>\n",
       "    <tr>\n",
       "      <th>4</th>\n",
       "      <td>Ciutat Meridiana</td>\n",
       "      <td>Nou Barris</td>\n",
       "      <td>29393</td>\n",
       "      <td>None</td>\n",
       "      <td>None</td>\n",
       "      <td>None</td>\n",
       "      <td>11026</td>\n",
       "      <td>15.1</td>\n",
       "      <td>729</td>\n",
       "      <td>1</td>\n",
       "      <td>0</td>\n",
       "      <td>0</td>\n",
       "      <td>0</td>\n",
       "      <td>0.000000</td>\n",
       "      <td>0.000000</td>\n",
       "      <td>Q1</td>\n",
       "      <td>0.000000</td>\n",
       "    </tr>\n",
       "    <tr>\n",
       "      <th>...</th>\n",
       "      <td>...</td>\n",
       "      <td>...</td>\n",
       "      <td>...</td>\n",
       "      <td>...</td>\n",
       "      <td>...</td>\n",
       "      <td>...</td>\n",
       "      <td>...</td>\n",
       "      <td>...</td>\n",
       "      <td>...</td>\n",
       "      <td>...</td>\n",
       "      <td>...</td>\n",
       "      <td>...</td>\n",
       "      <td>...</td>\n",
       "      <td>...</td>\n",
       "      <td>...</td>\n",
       "      <td>...</td>\n",
       "      <td>...</td>\n",
       "    </tr>\n",
       "    <tr>\n",
       "      <th>68</th>\n",
       "      <td>la Vila Olímpica del Poblenou</td>\n",
       "      <td>Sant Martí</td>\n",
       "      <td>83317</td>\n",
       "      <td>Centre d'Atenció Primària Vila Olímpica</td>\n",
       "      <td>CAP</td>\n",
       "      <td>Public</td>\n",
       "      <td>9240</td>\n",
       "      <td>24.3</td>\n",
       "      <td>380</td>\n",
       "      <td>0</td>\n",
       "      <td>0</td>\n",
       "      <td>1</td>\n",
       "      <td>1</td>\n",
       "      <td>0.000108</td>\n",
       "      <td>0.002632</td>\n",
       "      <td>Q4</td>\n",
       "      <td>0.000000</td>\n",
       "    </tr>\n",
       "    <tr>\n",
       "      <th>69</th>\n",
       "      <td>la Vila de Gràcia</td>\n",
       "      <td>Gràcia</td>\n",
       "      <td>50733</td>\n",
       "      <td>Clínica Sanza, Centre d'Atenció Primària  Vila...</td>\n",
       "      <td>Other, CAP, Other</td>\n",
       "      <td>Private, Public, Private</td>\n",
       "      <td>49492</td>\n",
       "      <td>84.0</td>\n",
       "      <td>589</td>\n",
       "      <td>0</td>\n",
       "      <td>2</td>\n",
       "      <td>1</td>\n",
       "      <td>3</td>\n",
       "      <td>0.000061</td>\n",
       "      <td>0.005093</td>\n",
       "      <td>Q3</td>\n",
       "      <td>0.666667</td>\n",
       "    </tr>\n",
       "    <tr>\n",
       "      <th>70</th>\n",
       "      <td>les Corts</td>\n",
       "      <td>Les Corts</td>\n",
       "      <td>65816</td>\n",
       "      <td>Clínica Institut Marquès, Hospital de Barcelon...</td>\n",
       "      <td>Other, Hospital, Hospital, CAP</td>\n",
       "      <td>Private, Private, Private, Public</td>\n",
       "      <td>45422</td>\n",
       "      <td>64.7</td>\n",
       "      <td>702</td>\n",
       "      <td>0</td>\n",
       "      <td>3</td>\n",
       "      <td>1</td>\n",
       "      <td>4</td>\n",
       "      <td>0.000088</td>\n",
       "      <td>0.005698</td>\n",
       "      <td>Q4</td>\n",
       "      <td>0.750000</td>\n",
       "    </tr>\n",
       "    <tr>\n",
       "      <th>71</th>\n",
       "      <td>les Roquetes</td>\n",
       "      <td>Nou Barris</td>\n",
       "      <td>31584</td>\n",
       "      <td>Centre d'Atenció Primària Roquetes</td>\n",
       "      <td>CAP</td>\n",
       "      <td>Public</td>\n",
       "      <td>16373</td>\n",
       "      <td>18.2</td>\n",
       "      <td>897</td>\n",
       "      <td>0</td>\n",
       "      <td>0</td>\n",
       "      <td>1</td>\n",
       "      <td>1</td>\n",
       "      <td>0.000061</td>\n",
       "      <td>0.001115</td>\n",
       "      <td>Q1</td>\n",
       "      <td>0.000000</td>\n",
       "    </tr>\n",
       "    <tr>\n",
       "      <th>72</th>\n",
       "      <td>les Tres Torres</td>\n",
       "      <td>Sarrià-Sant Gervasi</td>\n",
       "      <td>131719</td>\n",
       "      <td>Clínica Oftalvist, Clinica del Son Estivill, I...</td>\n",
       "      <td>Other, Other, Other, Other, Other, Other</td>\n",
       "      <td>Private, Private, Private, Private, Private, P...</td>\n",
       "      <td>16228</td>\n",
       "      <td>42.5</td>\n",
       "      <td>382</td>\n",
       "      <td>0</td>\n",
       "      <td>6</td>\n",
       "      <td>0</td>\n",
       "      <td>6</td>\n",
       "      <td>0.000370</td>\n",
       "      <td>0.015707</td>\n",
       "      <td>Q4</td>\n",
       "      <td>1.000000</td>\n",
       "    </tr>\n",
       "  </tbody>\n",
       "</table>\n",
       "<p>73 rows × 17 columns</p>\n",
       "</div>"
      ],
      "text/plain": [
       "                neighborhood_name        district_name  median_income  \\\n",
       "0                   Baró de Viver          Sant Andreu          29438   \n",
       "1                        Can Baró       Horta-Guinardó          45922   \n",
       "2                     Can Peguera           Nou Barris          28117   \n",
       "3                       Canyelles           Nou Barris          43158   \n",
       "4                Ciutat Meridiana           Nou Barris          29393   \n",
       "..                            ...                  ...            ...   \n",
       "68  la Vila Olímpica del Poblenou           Sant Martí          83317   \n",
       "69              la Vila de Gràcia               Gràcia          50733   \n",
       "70                      les Corts            Les Corts          65816   \n",
       "71                   les Roquetes           Nou Barris          31584   \n",
       "72                les Tres Torres  Sarrià-Sant Gervasi         131719   \n",
       "\n",
       "                                       medical_center  \\\n",
       "0                                                None   \n",
       "1                                                None   \n",
       "2                                                None   \n",
       "3                                                None   \n",
       "4                                                None   \n",
       "..                                                ...   \n",
       "68            Centre d'Atenció Primària Vila Olímpica   \n",
       "69  Clínica Sanza, Centre d'Atenció Primària  Vila...   \n",
       "70  Clínica Institut Marquès, Hospital de Barcelon...   \n",
       "71                 Centre d'Atenció Primària Roquetes   \n",
       "72  Clínica Oftalvist, Clinica del Son Estivill, I...   \n",
       "\n",
       "                                        type  \\\n",
       "0                                       None   \n",
       "1                                       None   \n",
       "2                                       None   \n",
       "3                                       None   \n",
       "4                                       None   \n",
       "..                                       ...   \n",
       "68                                       CAP   \n",
       "69                         Other, CAP, Other   \n",
       "70            Other, Hospital, Hospital, CAP   \n",
       "71                                       CAP   \n",
       "72  Other, Other, Other, Other, Other, Other   \n",
       "\n",
       "                                                admin  population  \\\n",
       "0                                                None        2645   \n",
       "1                                                None        9233   \n",
       "2                                                None        2204   \n",
       "3                                                None        6797   \n",
       "4                                                None       11026   \n",
       "..                                                ...         ...   \n",
       "68                                             Public        9240   \n",
       "69                           Private, Public, Private       49492   \n",
       "70                  Private, Private, Private, Public       45422   \n",
       "71                                             Public       16373   \n",
       "72  Private, Private, Private, Private, Private, P...       16228   \n",
       "\n",
       "    residential_area_ha  net_density_hab_ha  none  private  public  \\\n",
       "0                   3.9                 673     1        0       0   \n",
       "1                  14.3                 645     1        0       0   \n",
       "2                   6.1                 359     1        0       0   \n",
       "3                  11.0                 620     1        0       0   \n",
       "4                  15.1                 729     1        0       0   \n",
       "..                  ...                 ...   ...      ...     ...   \n",
       "68                 24.3                 380     0        0       1   \n",
       "69                 84.0                 589     0        2       1   \n",
       "70                 64.7                 702     0        3       1   \n",
       "71                 18.2                 897     0        0       1   \n",
       "72                 42.5                 382     0        6       0   \n",
       "\n",
       "    medical_center_count  med_centers_per_pop  med_centers_per_density  \\\n",
       "0                      0             0.000000                 0.000000   \n",
       "1                      0             0.000000                 0.000000   \n",
       "2                      0             0.000000                 0.000000   \n",
       "3                      0             0.000000                 0.000000   \n",
       "4                      0             0.000000                 0.000000   \n",
       "..                   ...                  ...                      ...   \n",
       "68                     1             0.000108                 0.002632   \n",
       "69                     3             0.000061                 0.005093   \n",
       "70                     4             0.000088                 0.005698   \n",
       "71                     1             0.000061                 0.001115   \n",
       "72                     6             0.000370                 0.015707   \n",
       "\n",
       "   income_quartile  private_proportion  \n",
       "0               Q1            0.000000  \n",
       "1               Q2            0.000000  \n",
       "2               Q1            0.000000  \n",
       "3               Q2            0.000000  \n",
       "4               Q1            0.000000  \n",
       "..             ...                 ...  \n",
       "68              Q4            0.000000  \n",
       "69              Q3            0.666667  \n",
       "70              Q4            0.750000  \n",
       "71              Q1            0.000000  \n",
       "72              Q4            1.000000  \n",
       "\n",
       "[73 rows x 17 columns]"
      ]
     },
     "execution_count": 15,
     "metadata": {},
     "output_type": "execute_result"
    }
   ],
   "source": [
    "healthcare_df"
   ]
  },
  {
   "cell_type": "markdown",
   "id": "298f25f2",
   "metadata": {},
   "source": [
    "# Saving"
   ]
  },
  {
   "cell_type": "code",
   "execution_count": 16,
   "id": "a775134d",
   "metadata": {},
   "outputs": [],
   "source": [
    "# Save the DataFrame to a CSV file for a later use\n",
    "healthcare_df.to_csv('barcelona_healthcare_df.csv', index=False)"
   ]
  }
 ],
 "metadata": {
  "kernelspec": {
   "display_name": "Python 3 (ipykernel)",
   "language": "python",
   "name": "python3"
  },
  "language_info": {
   "codemirror_mode": {
    "name": "ipython",
    "version": 3
   },
   "file_extension": ".py",
   "mimetype": "text/x-python",
   "name": "python",
   "nbconvert_exporter": "python",
   "pygments_lexer": "ipython3",
   "version": "3.9.18"
  }
 },
 "nbformat": 4,
 "nbformat_minor": 5
}
